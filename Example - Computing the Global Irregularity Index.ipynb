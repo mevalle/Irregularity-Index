{
 "cells": [
  {
   "cell_type": "markdown",
   "metadata": {},
   "source": [
    "# Load the irregularity tools module:"
   ]
  },
  {
   "cell_type": "code",
   "execution_count": 1,
   "metadata": {},
   "outputs": [
    {
     "data": {
      "text/plain": [
       "irregularity_marginal (generic function with 5 methods)"
      ]
     },
     "execution_count": 1,
     "metadata": {},
     "output_type": "execute_result"
    }
   ],
   "source": [
    "include(\"IrregularityTools.jl\")"
   ]
  },
  {
   "cell_type": "markdown",
   "metadata": {},
   "source": [
    "# Defining a toy image:\n",
    "\n",
    "Let us construct a toy image similar to the one presented by E. Chevalier and J. Angulo in \"The Irregularity Issue of Total Orders on Metric Spaces and Its Consequences for Mathematical Morphology\", Journal of Mathematical Imaging and Vision, 54(3):344–357, 3 (2016). doi: 10.1007/s10851-015-0607-7."
   ]
  },
  {
   "cell_type": "code",
   "execution_count": 2,
   "metadata": {},
   "outputs": [
    {
     "data": {
      "image/png": "[encoded data removed]",
      "text/plain": [
       "64×32 Array{RGB{N0f8},2} with eltype RGB{Normed{UInt8,8}}:\n",
       " RGB{N0f8}(0.004,0.0,0.0)  …  RGB{N0f8}(0.0,0.0,1.0)\n",
       " RGB{N0f8}(0.004,0.0,0.0)     RGB{N0f8}(0.0,0.0,1.0)\n",
       " RGB{N0f8}(0.0,0.0,0.0)       RGB{N0f8}(0.0,0.0,1.0)\n",
       " RGB{N0f8}(0.004,0.0,0.0)     RGB{N0f8}(0.0,0.0,1.0)\n",
       " RGB{N0f8}(0.0,0.0,0.0)       RGB{N0f8}(0.0,0.0,1.0)\n",
       " RGB{N0f8}(0.0,0.0,0.0)    …  RGB{N0f8}(0.0,0.0,1.0)\n",
       " RGB{N0f8}(0.0,0.0,0.0)       RGB{N0f8}(0.0,0.0,1.0)\n",
       " RGB{N0f8}(0.004,0.0,0.0)     RGB{N0f8}(0.0,0.0,1.0)\n",
       " RGB{N0f8}(0.0,0.0,0.0)       RGB{N0f8}(0.0,0.0,1.0)\n",
       " RGB{N0f8}(0.0,0.0,0.0)       RGB{N0f8}(0.0,0.0,1.0)\n",
       " RGB{N0f8}(0.004,0.0,0.0)  …  RGB{N0f8}(0.0,0.0,1.0)\n",
       " RGB{N0f8}(0.0,0.0,0.0)       RGB{N0f8}(0.0,0.0,1.0)\n",
       " RGB{N0f8}(0.004,0.0,0.0)     RGB{N0f8}(0.0,0.0,1.0)\n",
       " ⋮                         ⋱  \n",
       " RGB{N0f8}(0.0,0.0,0.0)       RGB{N0f8}(0.0,0.0,1.0)\n",
       " RGB{N0f8}(0.0,0.0,0.0)       RGB{N0f8}(0.0,0.0,1.0)\n",
       " RGB{N0f8}(0.0,0.0,0.0)       RGB{N0f8}(0.0,0.0,1.0)\n",
       " RGB{N0f8}(0.0,0.0,0.0)    …  RGB{N0f8}(0.0,0.0,1.0)\n",
       " RGB{N0f8}(0.004,0.0,0.0)     RGB{N0f8}(0.0,0.0,1.0)\n",
       " RGB{N0f8}(0.004,0.0,0.0)     RGB{N0f8}(0.0,0.0,1.0)\n",
       " RGB{N0f8}(0.0,0.0,0.0)       RGB{N0f8}(0.0,0.0,1.0)\n",
       " RGB{N0f8}(0.0,0.0,0.0)       RGB{N0f8}(0.0,0.0,1.0)\n",
       " RGB{N0f8}(0.0,0.0,0.0)    …  RGB{N0f8}(0.0,0.0,1.0)\n",
       " RGB{N0f8}(0.0,0.0,0.0)       RGB{N0f8}(0.0,0.0,1.0)\n",
       " RGB{N0f8}(0.004,0.0,0.0)     RGB{N0f8}(0.0,0.0,1.0)\n",
       " RGB{N0f8}(0.004,0.0,0.0)     RGB{N0f8}(0.0,0.0,1.0)"
      ]
     },
     "execution_count": 2,
     "metadata": {},
     "output_type": "execute_result"
    }
   ],
   "source": [
    "function black_and_blue_random(pr)\n",
    "    Nh = 64\n",
    "    Nw = 16\n",
    "    img_r = zeros(RGB{N0f8}, Nh, Nw)\n",
    "    img_r[rand(Nh,Nw).<=pr] .= RGB(0.005,0,0)\n",
    "    img_b = Array{RGB{N0f8},2}(undef,Nh,Nw)\n",
    "    img_b .= RGB(0,0,1)\n",
    "    return hcat(img_r,img_b)\n",
    "end\n",
    "\n",
    "imI = black_and_blue_random(0.3)"
   ]
  },
  {
   "cell_type": "markdown",
   "metadata": {},
   "source": [
    "Let us now define the dilation by a cross structuring element and compute the dilation of the previous image using the lexicographical RGB ordering. The lexicographical dilation is implemented in the irregularity tools module using a reduced ordering defined by $h_{RGB}(x) = x_1 + x_2/255 + x_3/65025$. Precisely, a reduced ordering approach is computed by providing the input image, the reduced mapping, and the morphological operator using the command hMM as follows:"
   ]
  },
  {
   "cell_type": "code",
   "execution_count": 3,
   "metadata": {},
   "outputs": [
    {
     "ename": "LoadError",
     "evalue": "UndefVarError: h_rb not defined",
     "output_type": "error",
     "traceback": [
      "UndefVarError: h_rb not defined",
      "",
      "Stacktrace:",
      " [1] top-level scope at In[3]:8",
      " [2] include_string(::Function, ::Module, ::String, ::String) at ./loading.jl:1091"
     ]
    }
   ],
   "source": [
    "function mydilate(img)\n",
    "    # Cross-structuring element!\n",
    "    d1 = dilate(img,1)\n",
    "    d2 = dilate(img,2)\n",
    "    return max.(d1,d2)\n",
    "end\n",
    "\n",
    "imJ = hMM(imI, h_rb, mydilate)"
   ]
  },
  {
   "cell_type": "markdown",
   "metadata": {},
   "source": [
    "# Computing the Global Irregularity Index\n",
    "\n",
    "Compute the global irregularity index of the toy image analytically, that is, by solving the optimal transportation problem using a linear programming solver (JuMP + Clp):"
   ]
  },
  {
   "cell_type": "code",
   "execution_count": 4,
   "metadata": {},
   "outputs": [
    {
     "ename": "LoadError",
     "evalue": "UndefVarError: imJ not defined",
     "output_type": "error",
     "traceback": [
      "UndefVarError: imJ not defined",
      "",
      "Stacktrace:",
      " [1] top-level scope at ./timing.jl:174 [inlined]",
      " [2] top-level scope at ./In[4]:0",
      " [3] include_string(::Function, ::Module, ::String, ::String) at ./loading.jl:1091"
     ]
    }
   ],
   "source": [
    "@time global_irregularity(imI,imJ)"
   ]
  },
  {
   "cell_type": "markdown",
   "metadata": {},
   "source": [
    "Alternatively, the global irregularity index can be computed using the Sinkhorn method or its stabilized version, both available at OptimalTransport library."
   ]
  },
  {
   "cell_type": "code",
   "execution_count": 5,
   "metadata": {},
   "outputs": [
    {
     "ename": "LoadError",
     "evalue": "UndefVarError: imJ not defined",
     "output_type": "error",
     "traceback": [
      "UndefVarError: imJ not defined",
      "",
      "Stacktrace:",
      " [1] top-level scope at ./timing.jl:174 [inlined]",
      " [2] top-level scope at ./In[5]:0",
      " [3] include_string(::Function, ::Module, ::String, ::String) at ./loading.jl:1091"
     ]
    }
   ],
   "source": [
    "@time global_irregularity(imI,imJ,\"sinkhorn\",1.e-2)"
   ]
  },
  {
   "cell_type": "code",
   "execution_count": 6,
   "metadata": {},
   "outputs": [
    {
     "ename": "LoadError",
     "evalue": "UndefVarError: imJ not defined",
     "output_type": "error",
     "traceback": [
      "UndefVarError: imJ not defined",
      "",
      "Stacktrace:",
      " [1] top-level scope at ./timing.jl:174 [inlined]",
      " [2] top-level scope at ./In[6]:0",
      " [3] include_string(::Function, ::Module, ::String, ::String) at ./loading.jl:1091"
     ]
    }
   ],
   "source": [
    "@time global_irregularity(imI,imJ,\"stabilized_sinkhorn\",1.e-3)"
   ]
  }
 ],
 "metadata": {
  "@webio": {
   "lastCommId": null,
   "lastKernelId": null
  },
  "kernelspec": {
   "display_name": "Julia 1.5.3",
   "language": "julia",
   "name": "julia-1.5"
  },
  "language_info": {
   "file_extension": ".jl",
   "mimetype": "application/julia",
   "name": "julia",
   "version": "1.5.3"
  }
 },
 "nbformat": 4,
 "nbformat_minor": 2
}
